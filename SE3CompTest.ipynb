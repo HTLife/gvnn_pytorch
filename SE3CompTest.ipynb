{
 "cells": [
  {
   "cell_type": "markdown",
   "metadata": {},
   "source": [
    "# Forward"
   ]
  },
  {
   "cell_type": "markdown",
   "metadata": {
    "ExecuteTime": {
     "end_time": "2018-06-23T06:33:40.224305Z",
     "start_time": "2018-06-23T06:33:40.080203Z"
    },
    "code_folding": [
     25
    ]
   },
   "source": [
    "## Generate se3 R6 from SE3 Matrix by Sophus Library\n",
    "\n",
    "Rotation matrix\n",
    "```\n",
    "SE3 Matrix\n",
    "[ -0.1746031, -0.0317460,  0.9841270;    1\n",
    "   0.3492065, -0.9365079,  0.0317460;    2\n",
    "   0.9206349,  0.3492065,  0.1746031 ]   3\n",
    "      0            0          0          1 \n",
    "```\n",
    "(SE3 Matrix ==> se3 R6)\n",
    "```python\n",
    "from sophus import *\n",
    "from sympy import *\n",
    "q = Quaternion(0.1259882, Matrix([0.6299408, 0.1259882, 0.7559289]))\n",
    "xi_SE3 = Se3(So3(q), Matrix([1, 2, 3]))\n",
    "xi_se3 = SE3.log()\n",
    "```\n",
    "xi se3 R6\n",
    "```\n",
    "se3 R6\n",
    "Matrix([[3.48075536975048], [2.34718513399708], [0.874839482491055], [1.83448188157597], [0.366896492801180], [2.20137808316218]])\n",
    "```\n",
    "Combine Tg pose with xi\n",
    "```\n",
    "Tg = 1, 2, 3, 0.6324555, 0.3162278, 0.6324555, 0.3162278\n",
    "T_combine = xi_SE3_M * Tg_SE3_M\n",
    "```\n",
    "T_combine\n",
    "```\n",
    "R^4x4\n",
    " [-0.615872887393401, 0.768254002808266, -0.174603012694796, 3.71428578273958], \n",
    " [-0.768253903444096, -0.536507791771389, 0.349206445794498, 0.571428888078200], \n",
    " [0.174603364513569, 0.349206351769077, 0.920634830550402, 5.14285714642664], \n",
    " [0, 0, 0, 1]])\n",
    " \n",
    " R7\n",
    " 3.71428578273958 0.5714288880782 5.14285714642664 0.4383   -0.0000   -0.1992   -0.8765\n",
    "```"
   ]
  },
  {
   "cell_type": "code",
   "execution_count": 2,
   "metadata": {
    "ExecuteTime": {
     "end_time": "2018-06-27T11:38:24.761800Z",
     "start_time": "2018-06-27T11:38:24.752771Z"
    }
   },
   "outputs": [
    {
     "name": "stdout",
     "output_type": "stream",
     "text": [
      "R\n",
      "tensor([[[ 1.,  0.,  0.],\n",
      "         [ 0.,  1.,  0.],\n",
      "         [ 0.,  0.,  1.]],\n",
      "\n",
      "        [[ 1.,  0.,  0.],\n",
      "         [ 0.,  1.,  0.],\n",
      "         [ 0.,  0.,  1.]]])\n",
      "V\n",
      "tensor([[[ 1.,  0.,  0.],\n",
      "         [ 0.,  1.,  0.],\n",
      "         [ 0.,  0.,  1.]],\n",
      "\n",
      "        [[ 1.,  0.,  0.],\n",
      "         [ 0.,  1.,  0.],\n",
      "         [ 0.,  0.,  1.]]])\n",
      "Txi\n",
      "tensor([[ 0.,  0.,  0.],\n",
      "        [ 0.,  0.,  0.]])\n",
      "tensor([[[ 0.],\n",
      "         [ 0.],\n",
      "         [ 0.],\n",
      "         [ 1.],\n",
      "         [ 0.],\n",
      "         [ 0.],\n",
      "         [ 0.]],\n",
      "\n",
      "        [[ 0.],\n",
      "         [ 0.],\n",
      "         [ 0.],\n",
      "         [ 1.],\n",
      "         [ 0.],\n",
      "         [ 0.],\n",
      "         [ 0.]]])\n"
     ]
    }
   ],
   "source": [
    "import torch \n",
    "\n",
    "import numpy as np\n",
    "from SE3Comp import *\n",
    "\n",
    "batchSize = 2\n",
    "Tg = torch.zeros(batchSize, 7, 1)\n",
    "xi_vec = torch.zeros(batchSize, 6, 1)\n",
    "\n",
    "# Tg[0, 0] = 1\n",
    "# Tg[0, 1] = 2\n",
    "# Tg[0, 2] = 3\n",
    "# Tg[0, 3] = 0.6324555\n",
    "# Tg[0, 4] = 0.3162278\n",
    "# Tg[0, 5] = 0.6324555\n",
    "# Tg[0, 6] = 0.3162278\n",
    "\n",
    "Tg[0, 0] = 0\n",
    "Tg[0, 1] = 0\n",
    "Tg[0, 2] = 0\n",
    "Tg[0, 3] = 0\n",
    "Tg[0, 4] = 0\n",
    "Tg[0, 5] = 0\n",
    "Tg[0, 6] = 0\n",
    "# xi_vec[0,0] = 3.48075536975048\n",
    "# xi_vec[0,1] = 2.34718513399708\n",
    "# xi_vec[0,2] = 0.874839482491055\n",
    "# xi_vec[0,3] = 1.83448188157597\n",
    "# xi_vec[0,4] = 0.366896492801180\n",
    "# xi_vec[0,5] = 2.20137808316218\n",
    "\n",
    "xi_vec[0,0] = 0\n",
    "xi_vec[0,1] = 0\n",
    "xi_vec[0,2] = 0\n",
    "xi_vec[0,3] = 0\n",
    "xi_vec[0,4] = 0\n",
    "xi_vec[0,5] = 0\n",
    "\n",
    "model = SE3Comp()\n",
    "\n",
    "\n",
    "ans = model.forward(Tg, xi_vec)\n",
    "print(ans)\n",
    "#3.71428578273958 0.5714288880782 5.14285714642664 0.4383   -0.0000   -0.1992   -0.8765"
   ]
  },
  {
   "cell_type": "markdown",
   "metadata": {},
   "source": [
    "# Backward"
   ]
  },
  {
   "cell_type": "code",
   "execution_count": 34,
   "metadata": {
    "ExecuteTime": {
     "end_time": "2018-06-23T07:39:27.821670Z",
     "start_time": "2018-06-23T07:39:27.728900Z"
    }
   },
   "outputs": [
    {
     "name": "stdout",
     "output_type": "stream",
     "text": [
      "Before optimization\n",
      "\n",
      "tensor([[-0.1696,  0.2081, -0.2086, -0.2917, -0.2273, -0.3017, -0.0339],\n",
      "        [ 0.3304,  0.3171,  0.2417, -0.2813,  0.0459,  0.1605,  0.1279],\n",
      "        [ 0.1945, -0.2777, -0.0612, -0.0163,  0.2093, -0.1172, -0.1393],\n",
      "        [ 0.2085, -0.1922,  0.1244,  0.2897,  0.1418,  0.3760, -0.1734],\n",
      "        [ 0.3445,  0.0452, -0.3564, -0.1274, -0.0022, -0.3309, -0.1582],\n",
      "        [ 0.1029, -0.1571,  0.1368, -0.3428, -0.1953, -0.3509, -0.0734],\n",
      "        [-0.0304,  0.0749, -0.2983,  0.3132, -0.0953,  0.2934,  0.0013]])\n",
      "tensor([-0.1659, -0.2764,  0.2008,  0.0346,  0.1733, -0.1328,  0.3282])\n",
      "tensor([[ 0.3257, -0.0104, -0.4051,  0.1441,  0.3979, -0.2569],\n",
      "        [ 0.2838,  0.2279, -0.1175, -0.3361,  0.2237,  0.2689],\n",
      "        [ 0.0681,  0.2872,  0.3464, -0.0017, -0.1268, -0.2446],\n",
      "        [-0.0105, -0.1128,  0.2570,  0.2927,  0.1576, -0.2875],\n",
      "        [-0.1254,  0.1184, -0.2634,  0.1554,  0.0376, -0.0598],\n",
      "        [ 0.1583,  0.2524, -0.3112, -0.1510,  0.2820,  0.3935]])\n",
      "tensor([-0.2516,  0.1705, -0.0275,  0.2309, -0.1593,  0.2323])\n",
      "tensor([[-0.1207,  0.1481,  0.0903,  0.2506,  0.0052,  0.3318,  0.1142],\n",
      "        [-0.3321, -0.0965, -0.0418, -0.3473,  0.1659, -0.0260,  0.1979],\n",
      "        [ 0.2051,  0.0143, -0.1887, -0.0810,  0.1700,  0.3454, -0.0580],\n",
      "        [-0.3588,  0.2784, -0.1422, -0.1486,  0.3764, -0.3209,  0.1971],\n",
      "        [ 0.3127, -0.1334,  0.3421, -0.2490, -0.1828,  0.3748, -0.3391],\n",
      "        [-0.1302,  0.1977,  0.1432, -0.2754,  0.0595,  0.2045, -0.3416],\n",
      "        [ 0.1472, -0.2851, -0.2156, -0.1488,  0.2857, -0.1573,  0.3477]])\n",
      "tensor([ 0.0167,  0.2307, -0.2047, -0.3134, -0.0305,  0.2481,  0.1636])\n",
      "==============================\n",
      "\n",
      "tensor(0.1735)\n",
      "tensor(0.1735)\n",
      "tensor(0.1735)\n",
      "tensor(0.1735)\n",
      "tensor(0.1735)\n",
      "tensor(0.1735)\n",
      "tensor(0.1735)\n",
      "tensor(0.1735)\n",
      "tensor(0.1735)\n",
      "tensor(0.1735)\n",
      "tensor(0.1735)\n",
      "tensor(0.1735)\n",
      "tensor(0.1735)\n",
      "tensor(0.1735)\n",
      "tensor(0.1735)\n",
      "tensor(0.1735)\n",
      "tensor(0.1735)\n",
      "tensor(0.1735)\n",
      "tensor(0.1735)\n",
      "tensor(0.1735)\n",
      "tensor(0.1735)\n",
      "tensor(0.1735)\n",
      "tensor(0.1735)\n",
      "tensor(0.1735)\n",
      "tensor(0.1735)\n",
      "tensor(0.1735)\n",
      "tensor(0.1735)\n",
      "tensor(0.1735)\n",
      "tensor(0.1735)\n",
      "tensor(0.1735)\n",
      "tensor(0.1735)\n",
      "tensor(0.1735)\n",
      "tensor(0.1735)\n",
      "tensor(0.1735)\n",
      "tensor(0.1735)\n",
      "tensor(0.1735)\n",
      "tensor(0.1735)\n",
      "tensor(0.1735)\n",
      "tensor(0.1735)\n",
      "tensor(0.1735)\n",
      "tensor(0.1735)\n",
      "tensor(0.1735)\n",
      "tensor(0.1735)\n",
      "tensor(0.1735)\n",
      "tensor(0.1735)\n",
      "tensor(0.1735)\n",
      "tensor(0.1735)\n",
      "tensor(0.1735)\n",
      "tensor(0.1735)\n",
      "tensor(0.1735)\n",
      "After optimization\n",
      "\n",
      "tensor([[-0.1696,  0.2081, -0.2086, -0.2917, -0.2273, -0.3017, -0.0339],\n",
      "        [ 0.3304,  0.3171,  0.2417, -0.2813,  0.0459,  0.1605,  0.1279],\n",
      "        [ 0.1945, -0.2777, -0.0612, -0.0163,  0.2093, -0.1172, -0.1393],\n",
      "        [ 0.2085, -0.1922,  0.1244,  0.2897,  0.1418,  0.3760, -0.1734],\n",
      "        [ 0.3445,  0.0452, -0.3564, -0.1274, -0.0022, -0.3309, -0.1582],\n",
      "        [ 0.1029, -0.1571,  0.1368, -0.3428, -0.1953, -0.3509, -0.0734],\n",
      "        [-0.0304,  0.0749, -0.2983,  0.3132, -0.0953,  0.2934,  0.0013]])\n",
      "tensor([-0.1659, -0.2764,  0.2008,  0.0346,  0.1733, -0.1328,  0.3282])\n",
      "tensor([[ 0.3257, -0.0104, -0.4051,  0.1441,  0.3979, -0.2569],\n",
      "        [ 0.2838,  0.2279, -0.1175, -0.3361,  0.2237,  0.2689],\n",
      "        [ 0.0681,  0.2872,  0.3464, -0.0017, -0.1268, -0.2446],\n",
      "        [-0.0105, -0.1128,  0.2570,  0.2927,  0.1576, -0.2875],\n",
      "        [-0.1254,  0.1184, -0.2634,  0.1554,  0.0376, -0.0598],\n",
      "        [ 0.1583,  0.2524, -0.3112, -0.1510,  0.2820,  0.3935]])\n",
      "tensor([-0.2516,  0.1705, -0.0275,  0.2309, -0.1593,  0.2323])\n",
      "tensor([[-0.1207,  0.1481,  0.0903,  0.2506,  0.0052,  0.3318,  0.1142],\n",
      "        [-0.3321, -0.0965, -0.0418, -0.3473,  0.1659, -0.0260,  0.1979],\n",
      "        [ 0.2051,  0.0143, -0.1887, -0.0810,  0.1700,  0.3454, -0.0580],\n",
      "        [-0.3588,  0.2784, -0.1422, -0.1486,  0.3764, -0.3209,  0.1971],\n",
      "        [ 0.3127, -0.1334,  0.3421, -0.2490, -0.1828,  0.3748, -0.3391],\n",
      "        [-0.1302,  0.1977,  0.1432, -0.2754,  0.0595,  0.2045, -0.3416],\n",
      "        [ 0.1472, -0.2851, -0.2156, -0.1488,  0.2857, -0.1573,  0.3477]])\n",
      "tensor([ 0.0167,  0.2307, -0.2047, -0.3134, -0.0305,  0.2481,  0.1636])\n"
     ]
    }
   ],
   "source": [
    "import torch.optim as optim\n",
    "\n",
    "class testNet(nn.Module):\n",
    "    def __init__(self):\n",
    "        super(testNet, self).__init__()\n",
    "        self.se3comp = SE3Comp()\n",
    "        self.linearTg = nn.Linear(7, 7)\n",
    "        self.linearXI = nn.Linear(6, 6)\n",
    "        self.linear3 = nn.Linear(7, 7)\n",
    "    def forward(self, Tg, xi_vec):\n",
    "        batchSize = 2\n",
    "        \n",
    "        outTg = self.linearTg(Tg.view(batchSize, 1, -1))\n",
    "        outXI = self.linearXI(xi_vec.view(batchSize,1, -1))\n",
    "        outC = self.se3comp(outTg.view(batchSize,7,-1) , outXI.view(batchSize, 6, -1))\n",
    "        outC_squeezed = torch.squeeze(outC)\n",
    "        \n",
    "        \n",
    "        outL = self.linear3(outC_squeezed.view(batchSize, 1, -1))\n",
    "        \n",
    "        return outL.view(batchSize, 7, -1)\n",
    "        \n",
    "model = testNet()\n",
    "\n",
    "optimizer = optim.SGD(filter(lambda p: p.requires_grad, model.parameters()), lr=1e-4)\n",
    "criterion  = nn.MSELoss()\n",
    "\n",
    "print('Before optimization\\n')\n",
    "for param in model.parameters():\n",
    "    print(param.data)\n",
    "print('==============================\\n')    \n",
    "\n",
    "Tans = torch.zeros(batchSize, 7, 1)\n",
    "Tg[0, 0] = 1\n",
    "Tg[0, 1] = 2\n",
    "Tg[0, 2] = 0\n",
    "Tg[0, 3] = 0\n",
    "Tg[0, 4] = 0.3162278\n",
    "Tg[0, 5] = 0.6324555\n",
    "Tg[0, 6] = 0.3162278\n",
    "\n",
    "EPOCH = 50\n",
    "for k in range(EPOCH):\n",
    "    optimizer.zero_grad()\n",
    "    output = model(Tg, xi_vec)\n",
    "    #print('output size: ', output.size())\n",
    "\n",
    "    loss = criterion(output, Tans)\n",
    "    print(loss)\n",
    "    loss.register_hook(print)\n",
    "    loss.backward\n",
    "    optimizer.step()\n",
    "\n",
    "print('After optimization\\n')\n",
    "for param in model.parameters():\n",
    "    print(param.data)"
   ]
  },
  {
   "cell_type": "code",
   "execution_count": 36,
   "metadata": {
    "ExecuteTime": {
     "end_time": "2018-06-27T10:56:01.644311Z",
     "start_time": "2018-06-27T10:56:01.636492Z"
    }
   },
   "outputs": [
    {
     "name": "stdout",
     "output_type": "stream",
     "text": [
      "tensor([[[ 1.,  0.,  0.],\n",
      "         [ 0.,  1.,  0.],\n",
      "         [ 0.,  0.,  1.]],\n",
      "\n",
      "        [[ 1.,  0.,  0.],\n",
      "         [ 0.,  1.,  0.],\n",
      "         [ 0.,  0.,  1.]]])\n"
     ]
    }
   ],
   "source": [
    "import torch \n",
    "\n",
    "import numpy as np\n",
    "from SE3Comp import *\n",
    "\n",
    "batchSize = 2\n",
    "q = torch.zeros(batchSize, 4, 1)\n",
    "q[:,0] = 0\n",
    "q[:,1] = 0\n",
    "q[:,2] = 0\n",
    "q[:,3] = 0\n",
    "\n",
    "\n",
    "def q_to_Matrix(q):\n",
    "    qw = q[:, 0]\n",
    "    qx = q[:, 1]\n",
    "    qy = q[:, 2]\n",
    "    qz = q[:, 3]\n",
    "    M = torch.zeros(q.size()[0], 3, 3)\n",
    "\n",
    "    M[:, 0, 0] = torch.squeeze( 1 - 2*torch.mul(qy,qy) - 2*torch.mul(qz,qz) )\n",
    "    M[:, 1, 0] = torch.squeeze( 2*torch.mul(qx,qy) + 2*torch.mul(qz,qw) )\n",
    "    M[:, 2, 0] = torch.squeeze( 2*torch.mul(qx,qz) - 2*torch.mul(qy,qw) )\n",
    "\n",
    "    M[:, 0, 1] = torch.squeeze( 2*torch.mul(qx,qy) - 2*torch.mul(qz,qw) )\n",
    "    M[:, 1, 1] = torch.squeeze( 1 - 2*torch.mul(qx,qx) - 2*torch.mul(qz,qz) )\n",
    "    M[:, 2, 1] = torch.squeeze( 2*torch.mul(qy,qz) + 2*torch.mul(qx,qw) )\n",
    "\n",
    "    M[:, 0, 2] = torch.squeeze( 2*torch.mul(qx,qz) + 2*torch.mul(qy,qw) )\n",
    "    M[:, 1, 2] = torch.squeeze( 2*torch.mul(qy,qz) - 2*torch.mul(qx,qw) )\n",
    "    M[:, 2, 2] = torch.squeeze( 1 - 2*torch.mul(qx,qx) - 2*torch.mul(qy,qy) )\n",
    "\n",
    "    return M\n",
    "\n",
    "ans = q_to_Matrix(q)\n",
    "print(ans)"
   ]
  },
  {
   "cell_type": "code",
   "execution_count": 93,
   "metadata": {
    "ExecuteTime": {
     "end_time": "2018-06-27T13:31:59.069539Z",
     "start_time": "2018-06-27T13:31:59.062295Z"
    }
   },
   "outputs": [
    {
     "name": "stdout",
     "output_type": "stream",
     "text": [
      "by formula\n",
      "tensor([0.499583472197418, 0.499995833347366, 0.499999958325503, 0.499999996961265, 0.500000041370185, 0.500044450291171, 0.499600361081320,\n",
      "        0.000000000000000, 0.000000000000000, 0.000000000000000], dtype=torch.float64)\n",
      "by Taylor\n",
      "tensor([0.499583472197423, 0.499995833347222, 0.499999958333335, 0.499999999583333, 0.499999999995833, 0.499999999999958, 0.500000000000000,\n",
      "        0.500000000000000, 0.500000000000000, 0.500000000000000], dtype=torch.float64)\n"
     ]
    }
   ],
   "source": [
    "import numpy as np\n",
    "np.set_printoptions(precision=15)\n",
    "torch.set_printoptions(precision=15)\n",
    "theta = torch.from_numpy(np.array([1e-1, 1e-2, 1e-3, 1e-4, 1e-5, 1e-6, 1e-7, 1e-8, 1e-9, 1e-10]))\n",
    "\n",
    "co = (1.0 - torch.cos(theta)) / (theta*theta)\n",
    "print('by formula')\n",
    "print(co)\n",
    "\n",
    "co_l = torch.full((theta.shape[0],), 1.0 / 2.0, dtype=torch.float64)\n",
    "co_l += torch.pow(theta, (4*1)) / 720.0# 6!\n",
    "co_l += theta**(4*2) / 3628800.0# 10!\n",
    "co_l -= theta**(2) / 24.0\n",
    "co_l -= theta**(2 + 4) / 40320.0\n",
    "\n",
    "print('by Taylor')\n",
    "print(co_l)\n",
    "\n",
    "\n",
    "\n"
   ]
  },
  {
   "cell_type": "code",
   "execution_count": 96,
   "metadata": {
    "ExecuteTime": {
     "end_time": "2018-06-27T13:40:57.516584Z",
     "start_time": "2018-06-27T13:40:57.510576Z"
    }
   },
   "outputs": [
    {
     "name": "stdout",
     "output_type": "stream",
     "text": [
      "tensor([0.166583353171851, 0.166665833335744, 0.166666658339004, 0.166666661483190, 0.166667284899440, 0.166653732372284, 0.172053567411030,\n",
      "        0.000000000000000, 0.000000000000000, 0.000000000000000], dtype=torch.float64)\n",
      "tensor([0.166583353171848, 0.166665833335317, 0.166666658333334, 0.166666666583333, 0.166666666665833, 0.166666666666658, 0.166666666666667,\n",
      "        0.166666666666667, 0.166666666666667, 0.166666666666667], dtype=torch.float64)\n"
     ]
    }
   ],
   "source": [
    "si = (theta - torch.sin(theta)) / (theta**3)\n",
    "print(si)\n",
    "\n",
    "si_l = torch.full((theta.shape[0],), 1.0 / 6.0, dtype=torch.float64)\n",
    "si_l += theta**(4*1) / 5040.0\n",
    "si_l += theta**(4*2) / 39916800.0\n",
    "si_l -= theta**(2) / 120.0\n",
    "si_l -= theta**(2 + 4) / 362880.0\n",
    "print(si_l)"
   ]
  },
  {
   "cell_type": "code",
   "execution_count": 67,
   "metadata": {
    "ExecuteTime": {
     "end_time": "2018-06-27T12:57:27.515966Z",
     "start_time": "2018-06-27T12:57:27.511662Z"
    }
   },
   "outputs": [],
   "source": [
    "co_l_pos = torch.full((theta.shape[0],), 1.0 / 2.0)"
   ]
  },
  {
   "cell_type": "code",
   "execution_count": 75,
   "metadata": {
    "ExecuteTime": {
     "end_time": "2018-06-27T13:06:15.347135Z",
     "start_time": "2018-06-27T13:06:15.342369Z"
    }
   },
   "outputs": [
    {
     "data": {
      "text/plain": [
       "362880"
      ]
     },
     "execution_count": 75,
     "metadata": {},
     "output_type": "execute_result"
    }
   ],
   "source": [
    "np.math.factorial(9) "
   ]
  },
  {
   "cell_type": "code",
   "execution_count": 81,
   "metadata": {
    "ExecuteTime": {
     "end_time": "2018-06-27T13:10:29.627207Z",
     "start_time": "2018-06-27T13:10:29.621647Z"
    }
   },
   "outputs": [
    {
     "name": "stdout",
     "output_type": "stream",
     "text": [
      "tensor([ 0.9983,  1.0000,  1.0000,  1.0000,  1.0000,  1.0000,  1.0000,\n",
      "         1.0000,  1.0000,  1.0000], dtype=torch.float64)\n"
     ]
    }
   ],
   "source": [
    "theta = torch.from_numpy(np.array([1e-1, 1e-2, 1e-3, 1e-4, 1e-5, 1e-6, 1e-7, 1e-8, 1e-9, 1e-10]))\n",
    "one = torch.sin(theta) / theta\n",
    "print(one)"
   ]
  },
  {
   "cell_type": "code",
   "execution_count": null,
   "metadata": {},
   "outputs": [],
   "source": []
  }
 ],
 "metadata": {
  "kernelspec": {
   "display_name": "Python 3",
   "language": "python",
   "name": "python3"
  },
  "language_info": {
   "codemirror_mode": {
    "name": "ipython",
    "version": 3
   },
   "file_extension": ".py",
   "mimetype": "text/x-python",
   "name": "python",
   "nbconvert_exporter": "python",
   "pygments_lexer": "ipython3",
   "version": "3.5.2"
  },
  "varInspector": {
   "cols": {
    "lenName": 16,
    "lenType": 16,
    "lenVar": 40
   },
   "kernels_config": {
    "python": {
     "delete_cmd_postfix": "",
     "delete_cmd_prefix": "del ",
     "library": "var_list.py",
     "varRefreshCmd": "print(var_dic_list())"
    },
    "r": {
     "delete_cmd_postfix": ") ",
     "delete_cmd_prefix": "rm(",
     "library": "var_list.r",
     "varRefreshCmd": "cat(var_dic_list()) "
    }
   },
   "types_to_exclude": [
    "module",
    "function",
    "builtin_function_or_method",
    "instance",
    "_Feature"
   ],
   "window_display": false
  }
 },
 "nbformat": 4,
 "nbformat_minor": 2
}
